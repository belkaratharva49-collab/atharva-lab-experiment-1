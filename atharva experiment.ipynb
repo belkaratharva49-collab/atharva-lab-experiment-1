{
 "cells": [
  {
   "cell_type": "code",
   "execution_count": 1,
   "id": "8cc3a502",
   "metadata": {},
   "outputs": [
    {
     "name": "stdout",
     "output_type": "stream",
     "text": [
      "   customer_id         name                    email   age           city\n",
      "0            1     John Doe     john.doe@example.com  28.0       New York\n",
      "1            2   Jane Smith            Invalid Email  34.0    Los Angeles\n",
      "2            3      Bob Lee      bob.lee@example.com  28.0        Chicago\n",
      "3            4   Alice Wong   alice.wong@example.com  27.0  San Francisco\n",
      "4            5     John Doe     john.doe@example.com  28.0       New York\n",
      "5            6      Unknown              susan.park@  45.0          Miami\n",
      "6            7     Tom Hill     tom.hill@example.com  28.0        Seattle\n",
      "7            8  Emily Stone  emily.stone@example.com  22.0        Unknown\n",
      "8            9   Chris King            Invalid Email  30.0         Boston\n",
      "9           10   Mary Clark   mary.clark@example.com  28.0         Denver\n",
      "Cleaned data saved to customer_data_cleaned.xlsx\n"
     ]
    }
   ],
   "source": [
    "import pandas as pd\n",
    "import numpy as np\n",
    "from io import StringIO\n",
    "\n",
    "data = \"\"\"customer_id,name,email,age,city\n",
    "1,John Doe,john.doe@example.com,28,New York\n",
    "2,Jane Smith,janesmithexample.com,34,Los Angeles\n",
    "3,Bob Lee,bob.lee@example.com,0,Chicago\n",
    "4,Alice Wong,alice.wong@example.com,27,San Francisco\n",
    "5,John Doe,john.doe@example.com,28,New York\n",
    "6,NaN,susan.park@,45,Miami\n",
    "7,Tom Hill,tom.hill@example.com,,Seattle\n",
    "8,Emily Stone,emily.stone@example.com,22,NaN\n",
    "9,Chris King,,30,Boston\n",
    "10,Mary Clark,mary.clark@example.com,NaN,Denver\n",
    "\"\"\"\n",
    "\n",
    "df = pd.read_csv(StringIO(data))\n",
    "\n",
    "df[\"name\"].fillna(\"Unknown\", inplace=True)\n",
    "df[\"email\"].fillna(\"Unknown\", inplace=True)\n",
    "df[\"city\"].fillna(\"Unknown\", inplace=True)\n",
    "\n",
    "df[\"email\"] = df[\"email\"].apply(lambda x: x if \"@\" in str(x) and \".\" in str(x) else \"Invalid Email\")\n",
    "\n",
    "df[\"age\"] = pd.to_numeric(df[\"age\"], errors=\"coerce\")\n",
    "df.loc[df[\"age\"] <= 0, \"age\"] = np.nan\n",
    "df[\"age\"].fillna(df[\"age\"].median(), inplace=True)\n",
    "\n",
    "df.drop_duplicates(inplace=True)\n",
    "\n",
    "df[\"city\"] = df[\"city\"].str.title().str.strip()\n",
    "\n",
    "df[\"customer_id\"] = df[\"customer_id\"].astype(int)\n",
    "\n",
    "print(df)\n",
    "\n",
    "output_path = \"customer_data_cleaned.xlsx\"\n",
    "with pd.ExcelWriter(output_path, engine=\"openpyxl\") as writer:\n",
    "    df.to_excel(writer, sheet_name=\"Cleaned Data\", index=False)\n",
    "\n",
    "print(f\"Cleaned data saved to {output_path}\")\n"
   ]
  }
 ],
 "metadata": {
  "kernelspec": {
   "display_name": "base",
   "language": "python",
   "name": "python3"
  },
  "language_info": {
   "codemirror_mode": {
    "name": "ipython",
    "version": 3
   },
   "file_extension": ".py",
   "mimetype": "text/x-python",
   "name": "python",
   "nbconvert_exporter": "python",
   "pygments_lexer": "ipython3",
   "version": "3.11.5"
  }
 },
 "nbformat": 4,
 "nbformat_minor": 5
}
